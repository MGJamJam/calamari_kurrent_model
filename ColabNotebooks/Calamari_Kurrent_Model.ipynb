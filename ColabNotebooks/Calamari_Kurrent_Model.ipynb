{
  "cells": [
    {
      "cell_type": "markdown",
      "metadata": {
        "id": "view-in-github",
        "colab_type": "text"
      },
      "source": [
        "<a href=\"https://colab.research.google.com/github/MGJamJam/calamari_kurrent_model/blob/main/ColabNotebooks/Calamari_Kurrent_Model.ipynb\" target=\"_parent\"><img src=\"https://colab.research.google.com/assets/colab-badge.svg\" alt=\"Open In Colab\"/></a>"
      ]
    },
    {
      "cell_type": "markdown",
      "metadata": {
        "id": "_AOKARluO_bU"
      },
      "source": [
        "Following the tutorial on: https://poshan0126.medium.com/calamari-is-a-new-free-and-open-source-tensorflow-based-optical-character-recognition-package-that-2fcbf148cc0"
      ]
    },
    {
      "cell_type": "code",
      "execution_count": null,
      "metadata": {
        "id": "755pdZgQO82n"
      },
      "outputs": [],
      "source": [
        "## Let's install calamari_ocr\n",
        "!pip install calamari_ocr\n",
        "## Now download the pretrained model and unzip it:\n",
        "## Download pretrained models\n",
        "!wget https://github.com/Calamari-OCR/calamari_models/archive/1.0.zip\n",
        "# Unzip the trained models\n",
        "!unzip 1.0.zip"
      ]
    },
    {
      "cell_type": "code",
      "execution_count": null,
      "metadata": {
        "id": "MiY_XJgH6yF2"
      },
      "outputs": [],
      "source": [
        "# download test sample\n",
        "!wget https://d1ly52g9wjvbd2.cloudfront.net/img16/M/O/FF_Modern-Antiqua-RegularA.png -O test.png"
      ]
    },
    {
      "cell_type": "code",
      "execution_count": null,
      "metadata": {
        "id": "4Odjn3ov6xYp"
      },
      "outputs": [],
      "source": [
        "## Let's visualize image\n",
        "import cv2 as cv\n",
        "import matplotlib.pyplot as plt\n",
        "img = cv.imread(\"test.png\", 0)\n",
        "plt.imshow(img, cmap=\"gray\")"
      ]
    },
    {
      "cell_type": "code",
      "execution_count": null,
      "metadata": {
        "id": "T7zIA7NV7APL"
      },
      "outputs": [],
      "source": [
        "## Predict\n",
        "!calamari-predict --checkpoint calamari_models-1.0/antiqua_modern/0.ckpt.json --files test.png"
      ]
    },
    {
      "cell_type": "code",
      "execution_count": null,
      "metadata": {
        "colab": {
          "background_save": true
        },
        "id": "4bWPd7rm7JxS"
      },
      "outputs": [],
      "source": [
        "## See prediction\n",
        "!less test.pred.txt"
      ]
    }
  ],
  "metadata": {
    "colab": {
      "provenance": [],
      "authorship_tag": "ABX9TyMU7Iy2IbsFAdKQreGbPmlf",
      "include_colab_link": true
    },
    "kernelspec": {
      "display_name": "Python 3",
      "name": "python3"
    },
    "language_info": {
      "name": "python"
    }
  },
  "nbformat": 4,
  "nbformat_minor": 0
}