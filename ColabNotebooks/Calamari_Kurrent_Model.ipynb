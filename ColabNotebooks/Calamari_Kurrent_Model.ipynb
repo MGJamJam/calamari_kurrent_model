{
  "cells": [
    {
      "cell_type": "markdown",
      "metadata": {
        "id": "view-in-github",
        "colab_type": "text"
      },
      "source": [
        "<a href=\"https://colab.research.google.com/github/MGJamJam/calamari_kurrent_model/blob/main/ColabNotebooks/Calamari_Kurrent_Model.ipynb\" target=\"_parent\"><img src=\"https://colab.research.google.com/assets/colab-badge.svg\" alt=\"Open In Colab\"/></a>"
      ]
    },
    {
      "cell_type": "code",
      "source": [
        "## setup folder structure and import training data\n",
        "!mkdir trainig_data model_output\n",
        "## TODO import training data here"
      ],
      "metadata": {
        "id": "oPDgOEfUsT-3"
      },
      "execution_count": null,
      "outputs": []
    },
    {
      "cell_type": "code",
      "execution_count": null,
      "metadata": {
        "id": "755pdZgQO82n"
      },
      "outputs": [],
      "source": [
        "## Downgrade python version to 3.7 for calamari to work correctly\n",
        "!apt-get update -y\n",
        "!apt-get install python3.7 python3.7-distutils\n",
        "!update-alternatives --install /usr/bin/python3 python3 /usr/bin/python3.7 1\n",
        "!update-alternatives --config python3\n",
        "!apt-get install python3-pip\n",
        "!python3 -m pip install --upgrade pip --user\n",
        "## install compatible tensorflow & keras & protobuf version for calamari to work correctly\n",
        "!pip install tensorflow==2.6\n",
        "!pip install keras==2.6\n",
        "!pip install protobuf==3.20.3\n",
        "## install latest calamari\n",
        "!pip install calamari-ocr"
      ]
    },
    {
      "cell_type": "code",
      "execution_count": null,
      "metadata": {
        "id": "MiY_XJgH6yF2"
      },
      "outputs": [],
      "source": [
        "## Train model\n",
        "!calamari-train --trainer.gen SplitTrain --trainer.gen.validation_split_ratio=0.2 --trainer.epochs 5 --train PageXML --train.images training_data/*.jpg --trainer.output_dir model_output/\n"
      ]
    }
  ],
  "metadata": {
    "colab": {
      "provenance": [],
      "authorship_tag": "ABX9TyPP0mwbqikVbHIrNfya4Xbd",
      "include_colab_link": true
    },
    "kernelspec": {
      "display_name": "Python 3",
      "name": "python3"
    },
    "language_info": {
      "name": "python"
    }
  },
  "nbformat": 4,
  "nbformat_minor": 0
}